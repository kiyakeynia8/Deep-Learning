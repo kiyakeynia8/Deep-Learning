{
 "cells": [
  {
   "cell_type": "code",
   "execution_count": 48,
   "metadata": {},
   "outputs": [],
   "source": [
    "import tensorflow as tf"
   ]
  },
  {
   "cell_type": "code",
   "execution_count": 49,
   "metadata": {},
   "outputs": [
    {
     "name": "stdout",
     "output_type": "stream",
     "text": [
      "(50000, 32, 32, 3) (10000, 32, 32, 3) (50000, 1) (10000, 1)\n"
     ]
    }
   ],
   "source": [
    "cifar10 = tf.keras.datasets.cifar10\n",
    "(x_train, y_train), (x_test, y_test) = cifar10.load_data()\n",
    "x_train, x_test = x_train / 255.0, x_test / 255.0\n",
    "\n",
    "print(x_train.shape, x_test.shape, y_train.shape, y_test.shape)"
   ]
  },
  {
   "cell_type": "code",
   "execution_count": 50,
   "metadata": {},
   "outputs": [],
   "source": [
    "model = tf.keras.models.Sequential([\n",
    "    \n",
    "    # Deep Learning\n",
    "                                        # 32 * 32\n",
    "    tf.keras.layers.Conv2D(32, (3, 3), activation='relu'),  # 30 * 30\n",
    "    tf.keras.layers.Conv2D(20, (3, 3), activation='relu'),  # 28 * 28\n",
    "    tf.keras.layers.MaxPooling2D(),  # 14 * 14\n",
    "    tf.keras.layers.Conv2D(46, (3, 3), activation='relu'),  # 12 * 12\n",
    "    tf.keras.layers.Conv2D(32, (5, 5), activation='relu'),  # 8 * 8\n",
    "    tf.keras.layers.MaxPooling2D(),  # 4 * 4\n",
    "    tf.keras.layers.Flatten(),\n",
    "\n",
    "    # Machine Learning\n",
    "    tf.keras.layers.Dense(128, activation='relu'),\n",
    "    tf.keras.layers.Dropout(0.2),\n",
    "    tf.keras.layers.Dense(10, activation='softmax')\n",
    "])"
   ]
  },
  {
   "cell_type": "code",
   "execution_count": 51,
   "metadata": {},
   "outputs": [],
   "source": [
    "model.compile(optimizer='adam',\n",
    "    loss='sparse_categorical_crossentropy',\n",
    "    metrics=['accuracy'])"
   ]
  },
  {
   "cell_type": "code",
   "execution_count": 52,
   "metadata": {},
   "outputs": [
    {
     "name": "stdout",
     "output_type": "stream",
     "text": [
      "Epoch 1/10\n",
      "1563/1563 [==============================] - 17s 10ms/step - loss: 1.5880 - accuracy: 0.4198\n",
      "Epoch 2/10\n",
      "1563/1563 [==============================] - 18s 11ms/step - loss: 1.1769 - accuracy: 0.5800\n",
      "Epoch 3/10\n",
      "1563/1563 [==============================] - 19s 12ms/step - loss: 1.0314 - accuracy: 0.6351\n",
      "Epoch 4/10\n",
      "1563/1563 [==============================] - 20s 13ms/step - loss: 0.9287 - accuracy: 0.6703\n",
      "Epoch 5/10\n",
      "1563/1563 [==============================] - 20s 13ms/step - loss: 0.8529 - accuracy: 0.7000\n",
      "Epoch 6/10\n",
      "1563/1563 [==============================] - 20s 13ms/step - loss: 0.7987 - accuracy: 0.7190\n",
      "Epoch 7/10\n",
      "1563/1563 [==============================] - 20s 13ms/step - loss: 0.7587 - accuracy: 0.7323\n",
      "Epoch 8/10\n",
      "1563/1563 [==============================] - 23s 15ms/step - loss: 0.7170 - accuracy: 0.7463\n",
      "Epoch 9/10\n",
      "1563/1563 [==============================] - 22s 14ms/step - loss: 0.6835 - accuracy: 0.7578\n",
      "Epoch 10/10\n",
      "1563/1563 [==============================] - 22s 14ms/step - loss: 0.6543 - accuracy: 0.7679\n",
      "313/313 [==============================] - 3s 8ms/step - loss: 0.8391 - accuracy: 0.7227\n"
     ]
    },
    {
     "data": {
      "text/plain": [
       "[0.8390803933143616, 0.7226999998092651]"
      ]
     },
     "execution_count": 52,
     "metadata": {},
     "output_type": "execute_result"
    }
   ],
   "source": [
    "model_output = model.fit(x_train, y_train, epochs=10)\n",
    "model.evaluate(x_test, y_test)"
   ]
  }
 ],
 "metadata": {
  "kernelspec": {
   "display_name": "Python 3",
   "language": "python",
   "name": "python3"
  },
  "language_info": {
   "codemirror_mode": {
    "name": "ipython",
    "version": 3
   },
   "file_extension": ".py",
   "mimetype": "text/x-python",
   "name": "python",
   "nbconvert_exporter": "python",
   "pygments_lexer": "ipython3",
   "version": "3.11.7"
  }
 },
 "nbformat": 4,
 "nbformat_minor": 2
}
