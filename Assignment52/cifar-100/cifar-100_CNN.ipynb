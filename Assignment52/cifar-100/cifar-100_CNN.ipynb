{
 "cells": [
  {
   "cell_type": "code",
   "execution_count": 12,
   "metadata": {},
   "outputs": [],
   "source": [
    "import tensorflow as tf"
   ]
  },
  {
   "cell_type": "code",
   "execution_count": 13,
   "metadata": {},
   "outputs": [
    {
     "name": "stdout",
     "output_type": "stream",
     "text": [
      "(50000, 32, 32, 3) (10000, 32, 32, 3) (50000, 1) (10000, 1)\n"
     ]
    }
   ],
   "source": [
    "cifar100 = tf.keras.datasets.cifar100\n",
    "(x_train, y_train), (x_test, y_test) = cifar100.load_data()\n",
    "x_train, x_test = x_train / 255.0, x_test / 255.0\n",
    "\n",
    "print(x_train.shape, x_test.shape, y_train.shape, y_test.shape)"
   ]
  },
  {
   "cell_type": "code",
   "execution_count": 14,
   "metadata": {},
   "outputs": [],
   "source": [
    "model = tf.keras.models.Sequential([\n",
    "    \n",
    "    # Deep Learning\n",
    "                                        # 32 * 32\n",
    "    tf.keras.layers.Conv2D(32, (3, 3), activation='relu'),  # 30 * 30\n",
    "    tf.keras.layers.Conv2D(20, (3, 3), activation='relu'),  # 28 * 28\n",
    "    tf.keras.layers.MaxPooling2D(),  # 14 * 14\n",
    "    tf.keras.layers.Conv2D(46, (3, 3), activation='relu'),  # 12 * 12\n",
    "    tf.keras.layers.Conv2D(32, (5, 5), activation='relu'),  # 8 * 8\n",
    "    tf.keras.layers.MaxPooling2D(),  # 4 * 4\n",
    "    tf.keras.layers.Flatten(),\n",
    "\n",
    "    # Machine Learning\n",
    "    tf.keras.layers.Dense(128, activation='relu'),\n",
    "    tf.keras.layers.Dropout(0.2),\n",
    "    tf.keras.layers.Dense(100, activation='softmax')\n",
    "])"
   ]
  },
  {
   "cell_type": "code",
   "execution_count": 15,
   "metadata": {},
   "outputs": [],
   "source": [
    "model.compile(optimizer='adam',\n",
    "    loss='sparse_categorical_crossentropy',\n",
    "    metrics=['accuracy'])"
   ]
  },
  {
   "cell_type": "code",
   "execution_count": 16,
   "metadata": {},
   "outputs": [
    {
     "name": "stdout",
     "output_type": "stream",
     "text": [
      "Epoch 1/10\n",
      "1563/1563 [==============================] - 24s 15ms/step - loss: 4.0327 - accuracy: 0.0830\n",
      "Epoch 2/10\n",
      "1563/1563 [==============================] - 23s 15ms/step - loss: 3.5014 - accuracy: 0.1655\n",
      "Epoch 3/10\n",
      "1563/1563 [==============================] - 23s 15ms/step - loss: 3.2518 - accuracy: 0.2104\n",
      "Epoch 4/10\n",
      "1563/1563 [==============================] - 23s 15ms/step - loss: 3.0855 - accuracy: 0.2413\n",
      "Epoch 5/10\n",
      "1563/1563 [==============================] - 25s 16ms/step - loss: 2.9539 - accuracy: 0.2655\n",
      "Epoch 6/10\n",
      "1563/1563 [==============================] - 24s 16ms/step - loss: 2.8668 - accuracy: 0.2826\n",
      "Epoch 7/10\n",
      "1563/1563 [==============================] - 24s 15ms/step - loss: 2.7780 - accuracy: 0.3006\n",
      "Epoch 8/10\n",
      "1563/1563 [==============================] - 24s 16ms/step - loss: 2.6978 - accuracy: 0.3110\n",
      "Epoch 9/10\n",
      "1563/1563 [==============================] - 24s 16ms/step - loss: 2.6317 - accuracy: 0.3251\n",
      "Epoch 10/10\n",
      "1563/1563 [==============================] - 24s 16ms/step - loss: 2.5723 - accuracy: 0.3357\n",
      "313/313 [==============================] - 2s 6ms/step - loss: 2.6924 - accuracy: 0.3294\n"
     ]
    },
    {
     "data": {
      "text/plain": [
       "[2.692394256591797, 0.3294000029563904]"
      ]
     },
     "execution_count": 16,
     "metadata": {},
     "output_type": "execute_result"
    }
   ],
   "source": [
    "model_output = model.fit(x_train, y_train, epochs=10)\n",
    "model.evaluate(x_test, y_test)"
   ]
  }
 ],
 "metadata": {
  "kernelspec": {
   "display_name": "Python 3",
   "language": "python",
   "name": "python3"
  },
  "language_info": {
   "codemirror_mode": {
    "name": "ipython",
    "version": 3
   },
   "file_extension": ".py",
   "mimetype": "text/x-python",
   "name": "python",
   "nbconvert_exporter": "python",
   "pygments_lexer": "ipython3",
   "version": "3.11.7"
  }
 },
 "nbformat": 4,
 "nbformat_minor": 2
}
