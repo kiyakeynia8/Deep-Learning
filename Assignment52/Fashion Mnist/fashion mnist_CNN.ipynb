{
  "cells": [
    {
      "cell_type": "markdown",
      "metadata": {
        "id": "view-in-github",
        "colab_type": "text"
      },
      "source": [
        "<a href=\"https://colab.research.google.com/github/kiyakeynia8/Deep-Learning/blob/main/Assignment%2052/Fashion%20Mnist/fashion%20mnist_CNN.ipynb\" target=\"_parent\"><img src=\"https://colab.research.google.com/assets/colab-badge.svg\" alt=\"Open In Colab\"/></a>"
      ]
    },
    {
      "cell_type": "code",
      "execution_count": null,
      "metadata": {
        "id": "GOCcU6PSgp_k"
      },
      "outputs": [],
      "source": [
        "import tensorflow as tf"
      ]
    },
    {
      "cell_type": "code",
      "execution_count": null,
      "metadata": {
        "id": "SbfSlLE2gp_l",
        "colab": {
          "base_uri": "https://localhost:8080/"
        },
        "outputId": "270d4554-ccf2-4ca6-d58e-a4f277eb4995"
      },
      "outputs": [
        {
          "output_type": "stream",
          "name": "stdout",
          "text": [
            "Downloading data from https://storage.googleapis.com/tensorflow/tf-keras-datasets/train-labels-idx1-ubyte.gz\n",
            "29515/29515 [==============================] - 0s 0us/step\n",
            "Downloading data from https://storage.googleapis.com/tensorflow/tf-keras-datasets/train-images-idx3-ubyte.gz\n",
            "26421880/26421880 [==============================] - 0s 0us/step\n",
            "Downloading data from https://storage.googleapis.com/tensorflow/tf-keras-datasets/t10k-labels-idx1-ubyte.gz\n",
            "5148/5148 [==============================] - 0s 0us/step\n",
            "Downloading data from https://storage.googleapis.com/tensorflow/tf-keras-datasets/t10k-images-idx3-ubyte.gz\n",
            "4422102/4422102 [==============================] - 0s 0us/step\n"
          ]
        }
      ],
      "source": [
        "fashion_mnist = tf.keras.datasets.fashion_mnist\n",
        "(x_train, y_train), (x_test, y_test) = fashion_mnist.load_data()"
      ]
    },
    {
      "cell_type": "code",
      "execution_count": null,
      "metadata": {
        "id": "LGE5FPCugp_m",
        "outputId": "5d7f5ae2-a7d7-4c5c-8705-b827a448f691",
        "colab": {
          "base_uri": "https://localhost:8080/"
        }
      },
      "outputs": [
        {
          "output_type": "stream",
          "name": "stdout",
          "text": [
            "(60000, 28, 28, 1) (10000, 28, 28, 1) (60000,) (10000,)\n"
          ]
        }
      ],
      "source": [
        "x_train, x_test = x_train / 255.0, x_test / 255.0\n",
        "x_train = x_train.reshape(x_train.shape[0], x_train.shape[1], x_train.shape[2], 1)\n",
        "x_test = x_test.reshape(x_test.shape[0], x_test.shape[1], x_test.shape[2], 1)\n",
        "print(x_train.shape, x_test.shape, y_train.shape, y_test.shape)"
      ]
    },
    {
      "cell_type": "code",
      "execution_count": null,
      "metadata": {
        "id": "k2H2Mqo5gp_m"
      },
      "outputs": [],
      "source": [
        "model = tf.keras.models.Sequential([\n",
        "        # Deep Learning\n",
        "                                            # 28 * 28\n",
        "        tf.keras.layers.Conv2D(32, (3, 3), activation='relu'),  # 26 * 26\n",
        "        tf.keras.layers.Conv2D(20, (3, 3), activation='relu'),  # 24 * 24\n",
        "        tf.keras.layers.MaxPooling2D(),  # 12 * 12\n",
        "        tf.keras.layers.Flatten(),\n",
        "        tf.keras.layers.Dense(64, activation='relu'),\n",
        "        tf.keras.layers.Dense(10, activation='softmax')\n",
        "])"
      ]
    },
    {
      "cell_type": "code",
      "execution_count": null,
      "metadata": {
        "id": "jICgMyjQgp_m"
      },
      "outputs": [],
      "source": [
        "model.compile(optimizer='adam',\n",
        "    loss='sparse_categorical_crossentropy',\n",
        "    metrics=['accuracy'])"
      ]
    },
    {
      "cell_type": "code",
      "execution_count": null,
      "metadata": {
        "id": "yMXMzjXBgp_m",
        "outputId": "3c422c1c-6170-4f2f-a2b0-6e1e63260232",
        "colab": {
          "base_uri": "https://localhost:8080/"
        }
      },
      "outputs": [
        {
          "output_type": "stream",
          "name": "stdout",
          "text": [
            "Epoch 1/10\n",
            "1875/1875 [==============================] - 78s 41ms/step - loss: 0.4073 - accuracy: 0.8545\n",
            "Epoch 2/10\n",
            "1875/1875 [==============================] - 78s 42ms/step - loss: 0.2646 - accuracy: 0.9025\n",
            "Epoch 3/10\n",
            "1875/1875 [==============================] - 77s 41ms/step - loss: 0.2191 - accuracy: 0.9202\n",
            "Epoch 4/10\n",
            "1875/1875 [==============================] - 83s 44ms/step - loss: 0.1848 - accuracy: 0.9316\n",
            "Epoch 5/10\n",
            "1875/1875 [==============================] - 77s 41ms/step - loss: 0.1560 - accuracy: 0.9404\n",
            "Epoch 6/10\n",
            "1875/1875 [==============================] - 78s 41ms/step - loss: 0.1342 - accuracy: 0.9488\n",
            "Epoch 7/10\n",
            "1875/1875 [==============================] - 80s 42ms/step - loss: 0.1126 - accuracy: 0.9580\n",
            "Epoch 8/10\n",
            "1875/1875 [==============================] - 77s 41ms/step - loss: 0.0939 - accuracy: 0.9649\n",
            "Epoch 9/10\n",
            "1875/1875 [==============================] - 79s 42ms/step - loss: 0.0802 - accuracy: 0.9707\n",
            "Epoch 10/10\n",
            "1875/1875 [==============================] - 78s 42ms/step - loss: 0.0672 - accuracy: 0.9750\n",
            "313/313 [==============================] - 4s 14ms/step - loss: 0.3172 - accuracy: 0.9174\n"
          ]
        },
        {
          "output_type": "execute_result",
          "data": {
            "text/plain": [
              "[0.3171606659889221, 0.9174000024795532]"
            ]
          },
          "metadata": {},
          "execution_count": 15
        }
      ],
      "source": [
        "model_output = model.fit(x_train, y_train, epochs=10)\n",
        "model.evaluate(x_test, y_test)"
      ]
    }
  ],
  "metadata": {
    "kernelspec": {
      "display_name": "Python 3",
      "language": "python",
      "name": "python3"
    },
    "language_info": {
      "codemirror_mode": {
        "name": "ipython",
        "version": 3
      },
      "file_extension": ".py",
      "mimetype": "text/x-python",
      "name": "python",
      "nbconvert_exporter": "python",
      "pygments_lexer": "ipython3",
      "version": "3.11.7"
    },
    "colab": {
      "provenance": [],
      "include_colab_link": true
    }
  },
  "nbformat": 4,
  "nbformat_minor": 0
}