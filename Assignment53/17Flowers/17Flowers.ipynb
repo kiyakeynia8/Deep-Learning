{
 "cells": [
  {
   "cell_type": "code",
   "execution_count": 167,
   "metadata": {},
   "outputs": [],
   "source": [
    "import tensorflow as tf\n",
    "import numpy as np\n",
    "import cv2\n",
    "import matplotlib.pyplot as plt\n",
    "from tensorflow.keras import layers\n",
    "from tensorflow.keras import models\n",
    "from tensorflow.keras.preprocessing.image import ImageDataGenerator\n",
    "from sklearn.metrics import confusion_matrix"
   ]
  },
  {
   "cell_type": "code",
   "execution_count": 169,
   "metadata": {},
   "outputs": [
    {
     "name": "stdout",
     "output_type": "stream",
     "text": [
      "Found 823 images belonging to 17 classes.\n",
      "Found 197 images belonging to 17 classes.\n"
     ]
    }
   ],
   "source": [
    "idg = ImageDataGenerator(\n",
    "    rescale=1./255,\n",
    "    rotation_range=20,\n",
    "    zoom_range=0.2,\n",
    "    horizontal_flip=True,\n",
    "    validation_split=0.2\n",
    ")\n",
    "\n",
    "dataset_train = idg.flow_from_directory(\n",
    "    \"train\",\n",
    "    shuffle=True,\n",
    "    # save_to_dir=\"animal_test\",\n",
    "    subset=\"training\",\n",
    "    target_size=(224, 224)\n",
    ")\n",
    "\n",
    "dataset_validation = idg.flow_from_directory(\n",
    "    \"train\",\n",
    "    shuffle=False,\n",
    "    subset=\"validation\",\n",
    "    target_size=(224, 224)\n",
    ")"
   ]
  },
  {
   "cell_type": "code",
   "execution_count": null,
   "metadata": {},
   "outputs": [],
   "source": [
    "model = tf.keras.models.Sequential([\n",
    "    tf.keras.layers.Conv2D(32, (3, 3), activation='relu', input_shape=(224, 224, 3)),\n",
    "    tf.keras.layers.MaxPooling2D(2, 2),\n",
    "    tf.keras.layers.Conv2D(64, (3, 3), activation='relu'),\n",
    "    tf.keras.layers.MaxPooling2D(2, 2),\n",
    "    tf.keras.layers.Conv2D(128, (3, 3), activation='relu'),\n",
    "    tf.keras.layers.MaxPooling2D(2, 2),\n",
    "    tf.keras.layers.Conv2D(128, (3, 3), activation='relu'),\n",
    "    tf.keras.layers.MaxPooling2D(2, 2),\n",
    "    tf.keras.layers.Flatten(),\n",
    "    tf.keras.layers.Dense(512, activation='relu'),\n",
    "    tf.keras.layers.Dense(17, activation='sigmoid')\n",
    "    ])"
   ]
  },
  {
   "cell_type": "code",
   "execution_count": null,
   "metadata": {},
   "outputs": [],
   "source": [
    "model.compile(\n",
    "    optimizer=tf.keras.optimizers.Adam(learning_rate=0.001),\n",
    "    loss=tf.keras.losses.binary_crossentropy,\n",
    "    metrics=[\"accuracy\"]\n",
    ")"
   ]
  },
  {
   "cell_type": "code",
   "execution_count": null,
   "metadata": {},
   "outputs": [
    {
     "name": "stdout",
     "output_type": "stream",
     "text": [
      "Epoch 1/20\n",
      "26/26 [==============================] - 24s 893ms/step - loss: 0.2706 - accuracy: 0.0753 - val_loss: 0.2272 - val_accuracy: 0.1066\n",
      "Epoch 2/20\n",
      "26/26 [==============================] - 25s 955ms/step - loss: 0.2088 - accuracy: 0.1543 - val_loss: 0.1933 - val_accuracy: 0.1929\n",
      "Epoch 3/20\n",
      "26/26 [==============================] - 28s 1s/step - loss: 0.1808 - accuracy: 0.2734 - val_loss: 0.1619 - val_accuracy: 0.3096\n",
      "Epoch 4/20\n",
      "26/26 [==============================] - 27s 1s/step - loss: 0.1633 - accuracy: 0.3414 - val_loss: 0.1599 - val_accuracy: 0.4112\n",
      "Epoch 5/20\n",
      "26/26 [==============================] - 23s 893ms/step - loss: 0.1470 - accuracy: 0.4471 - val_loss: 0.1418 - val_accuracy: 0.4416\n",
      "Epoch 6/20\n",
      "26/26 [==============================] - 22s 854ms/step - loss: 0.1313 - accuracy: 0.5213 - val_loss: 0.1243 - val_accuracy: 0.5431\n",
      "Epoch 7/20\n",
      "26/26 [==============================] - 22s 850ms/step - loss: 0.1196 - accuracy: 0.5759 - val_loss: 0.1182 - val_accuracy: 0.5228\n",
      "Epoch 8/20\n",
      "26/26 [==============================] - 22s 845ms/step - loss: 0.1138 - accuracy: 0.5930 - val_loss: 0.1242 - val_accuracy: 0.4924\n",
      "Epoch 9/20\n",
      "26/26 [==============================] - 22s 846ms/step - loss: 0.1027 - accuracy: 0.6428 - val_loss: 0.1163 - val_accuracy: 0.5838\n",
      "Epoch 10/20\n",
      "26/26 [==============================] - 23s 869ms/step - loss: 0.0924 - accuracy: 0.6938 - val_loss: 0.1233 - val_accuracy: 0.5990\n",
      "Epoch 11/20\n",
      "26/26 [==============================] - 22s 840ms/step - loss: 0.0808 - accuracy: 0.7461 - val_loss: 0.1050 - val_accuracy: 0.6751\n",
      "Epoch 12/20\n",
      "26/26 [==============================] - 22s 839ms/step - loss: 0.0798 - accuracy: 0.7485 - val_loss: 0.1054 - val_accuracy: 0.6497\n",
      "Epoch 13/20\n",
      "26/26 [==============================] - 22s 837ms/step - loss: 0.0728 - accuracy: 0.7704 - val_loss: 0.1111 - val_accuracy: 0.6091\n",
      "Epoch 14/20\n",
      "26/26 [==============================] - 22s 829ms/step - loss: 0.0697 - accuracy: 0.7813 - val_loss: 0.1160 - val_accuracy: 0.6193\n",
      "Epoch 15/20\n",
      "26/26 [==============================] - 22s 826ms/step - loss: 0.0599 - accuracy: 0.8117 - val_loss: 0.1186 - val_accuracy: 0.6599\n",
      "Epoch 16/20\n",
      "26/26 [==============================] - 23s 894ms/step - loss: 0.0609 - accuracy: 0.8141 - val_loss: 0.1105 - val_accuracy: 0.6701\n",
      "Epoch 17/20\n",
      "26/26 [==============================] - 24s 909ms/step - loss: 0.0507 - accuracy: 0.8554 - val_loss: 0.0979 - val_accuracy: 0.7005\n",
      "Epoch 18/20\n",
      "26/26 [==============================] - 23s 882ms/step - loss: 0.0428 - accuracy: 0.8785 - val_loss: 0.1080 - val_accuracy: 0.7157\n",
      "Epoch 19/20\n",
      "26/26 [==============================] - 23s 866ms/step - loss: 0.0373 - accuracy: 0.9077 - val_loss: 0.1078 - val_accuracy: 0.7005\n",
      "Epoch 20/20\n",
      "26/26 [==============================] - 25s 947ms/step - loss: 0.0384 - accuracy: 0.8955 - val_loss: 0.1183 - val_accuracy: 0.6904\n"
     ]
    }
   ],
   "source": [
    "history = model.fit(dataset_train,\n",
    "          validation_data=dataset_validation,\n",
    "          epochs=20)"
   ]
  },
  {
   "cell_type": "code",
   "execution_count": null,
   "metadata": {},
   "outputs": [
    {
     "name": "stderr",
     "output_type": "stream",
     "text": [
      "c:\\Users\\kiyak\\AppData\\Local\\Programs\\Python\\Python311\\Lib\\site-packages\\keras\\src\\engine\\training.py:3103: UserWarning: You are saving your model as an HDF5 file via `model.save()`. This file format is considered legacy. We recommend using instead the native Keras format, e.g. `model.save('my_model.keras')`.\n",
      "  saving_api.save_model(\n"
     ]
    }
   ],
   "source": [
    "model.save(\"17Flowers.h5\")"
   ]
  },
  {
   "cell_type": "code",
   "execution_count": 170,
   "metadata": {},
   "outputs": [],
   "source": [
    "model = tf.keras.models.load_model(\"17Flowers.h5\")"
   ]
  },
  {
   "cell_type": "code",
   "execution_count": 172,
   "metadata": {},
   "outputs": [
    {
     "name": "stdout",
     "output_type": "stream",
     "text": [
      "Found 340 images belonging to 17 classes.\n"
     ]
    }
   ],
   "source": [
    "idg = ImageDataGenerator(\n",
    "    rescale = 1./255,\n",
    ")\n",
    "\n",
    "\n",
    "dataset_test = idg.flow_from_directory(\n",
    "    \"test\",\n",
    "    target_size = (224, 224),\n",
    "    class_mode = \"categorical\",\n",
    "    batch_size = 32,\n",
    ")"
   ]
  },
  {
   "cell_type": "code",
   "execution_count": 173,
   "metadata": {},
   "outputs": [
    {
     "name": "stdout",
     "output_type": "stream",
     "text": [
      "11/11 [==============================] - 4s 382ms/step - loss: 0.1320 - accuracy: 0.6941\n"
     ]
    },
    {
     "data": {
      "text/plain": [
       "[0.13198727369308472, 0.6941176652908325]"
      ]
     },
     "execution_count": 173,
     "metadata": {},
     "output_type": "execute_result"
    }
   ],
   "source": [
    "model.evaluate(dataset_test)"
   ]
  }
 ],
 "metadata": {
  "kernelspec": {
   "display_name": "Python 3",
   "language": "python",
   "name": "python3"
  },
  "language_info": {
   "codemirror_mode": {
    "name": "ipython",
    "version": 3
   },
   "file_extension": ".py",
   "mimetype": "text/x-python",
   "name": "python",
   "nbconvert_exporter": "python",
   "pygments_lexer": "ipython3",
   "version": "3.11.7"
  }
 },
 "nbformat": 4,
 "nbformat_minor": 2
}
