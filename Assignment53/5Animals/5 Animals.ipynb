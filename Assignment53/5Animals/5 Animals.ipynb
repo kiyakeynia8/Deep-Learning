{
 "cells": [
  {
   "cell_type": "code",
   "execution_count": 59,
   "metadata": {},
   "outputs": [],
   "source": [
    "import tensorflow as tf\n",
    "import numpy as np\n",
    "import cv2\n",
    "import matplotlib.pyplot as plt\n",
    "from tensorflow.keras import layers\n",
    "from tensorflow.keras import models\n",
    "from tensorflow.keras.preprocessing.image import ImageDataGenerator\n",
    "from sklearn.metrics import confusion_matrix"
   ]
  },
  {
   "cell_type": "code",
   "execution_count": 48,
   "metadata": {},
   "outputs": [
    {
     "name": "stdout",
     "output_type": "stream",
     "text": [
      "Found 1042 images belonging to 5 classes.\n",
      "Found 257 images belonging to 5 classes.\n"
     ]
    }
   ],
   "source": [
    "idg = ImageDataGenerator(\n",
    "    rescale=1./255,\n",
    "    rotation_range=20,\n",
    "    zoom_range=0.2,\n",
    "    horizontal_flip=True,\n",
    "    validation_split=0.2\n",
    ")\n",
    "\n",
    "dataset_train = idg.flow_from_directory(\n",
    "    \"Animals\",\n",
    "    shuffle=True,\n",
    "    # save_to_dir=\"animal_test\",\n",
    "    subset=\"training\",\n",
    "    target_size=(224, 224)\n",
    ")\n",
    "\n",
    "dataset_validation = idg.flow_from_directory(\n",
    "    \"Animals\",\n",
    "    shuffle=False,\n",
    "    subset=\"validation\",\n",
    "    target_size=(224, 224)\n",
    ")"
   ]
  },
  {
   "cell_type": "code",
   "execution_count": 49,
   "metadata": {},
   "outputs": [],
   "source": [
    "model = tf.keras.models.Sequential([\n",
    "    tf.keras.layers.Conv2D(32, (3, 3), activation='relu', input_shape=(224, 224, 3)),\n",
    "    tf.keras.layers.MaxPooling2D(2, 2),\n",
    "    tf.keras.layers.Conv2D(32, (3, 3), activation='relu'),\n",
    "    tf.keras.layers.MaxPooling2D(2,2),\n",
    "    tf.keras.layers.Conv2D(128, (3, 3), activation='relu'),\n",
    "    tf.keras.layers.MaxPooling2D(2,2),\n",
    "\n",
    "    tf.keras.layers.Flatten(),\n",
    "    \n",
    "    tf.keras.layers.Dense(512, activation='relu'),\n",
    "    tf.keras.layers.Dense(5, activation='softmax')\n",
    "])"
   ]
  },
  {
   "cell_type": "code",
   "execution_count": 50,
   "metadata": {},
   "outputs": [],
   "source": [
    "model.compile(\n",
    "    optimizer=tf.keras.optimizers.Adam(learning_rate=0.001),\n",
    "    loss=tf.keras.losses.categorical_crossentropy,\n",
    "    metrics=[\"accuracy\"]\n",
    ")"
   ]
  },
  {
   "cell_type": "code",
   "execution_count": 51,
   "metadata": {},
   "outputs": [
    {
     "name": "stdout",
     "output_type": "stream",
     "text": [
      "Epoch 1/20\n",
      "33/33 [==============================] - 48s 1s/step - loss: 1.9608 - accuracy: 0.3081 - val_loss: 1.4676 - val_accuracy: 0.3230\n",
      "Epoch 2/20\n",
      "33/33 [==============================] - 32s 976ms/step - loss: 1.3276 - accuracy: 0.4280 - val_loss: 1.4354 - val_accuracy: 0.4319\n",
      "Epoch 3/20\n",
      "33/33 [==============================] - 33s 1000ms/step - loss: 1.2249 - accuracy: 0.4741 - val_loss: 1.2720 - val_accuracy: 0.4942\n",
      "Epoch 4/20\n",
      "33/33 [==============================] - 33s 1s/step - loss: 1.0549 - accuracy: 0.5691 - val_loss: 1.0142 - val_accuracy: 0.5720\n",
      "Epoch 5/20\n",
      "33/33 [==============================] - 36s 1s/step - loss: 1.0148 - accuracy: 0.5893 - val_loss: 1.0295 - val_accuracy: 0.5837\n",
      "Epoch 6/20\n",
      "33/33 [==============================] - 35s 1s/step - loss: 0.9382 - accuracy: 0.6267 - val_loss: 1.0229 - val_accuracy: 0.5992\n",
      "Epoch 7/20\n",
      "33/33 [==============================] - 36s 1s/step - loss: 0.8284 - accuracy: 0.6756 - val_loss: 1.0084 - val_accuracy: 0.6498\n",
      "Epoch 8/20\n",
      "33/33 [==============================] - 34s 1s/step - loss: 0.7649 - accuracy: 0.6900 - val_loss: 1.0078 - val_accuracy: 0.6498\n",
      "Epoch 9/20\n",
      "33/33 [==============================] - 33s 1s/step - loss: 0.7208 - accuracy: 0.7207 - val_loss: 0.9647 - val_accuracy: 0.6342\n",
      "Epoch 10/20\n",
      "33/33 [==============================] - 33s 1s/step - loss: 0.6682 - accuracy: 0.7342 - val_loss: 0.9835 - val_accuracy: 0.6187\n",
      "Epoch 11/20\n",
      "33/33 [==============================] - 33s 1s/step - loss: 0.5610 - accuracy: 0.7879 - val_loss: 0.9294 - val_accuracy: 0.6615\n",
      "Epoch 12/20\n",
      "33/33 [==============================] - 33s 999ms/step - loss: 0.5524 - accuracy: 0.7898 - val_loss: 1.0320 - val_accuracy: 0.6537\n",
      "Epoch 13/20\n",
      "33/33 [==============================] - 33s 1s/step - loss: 0.5430 - accuracy: 0.7975 - val_loss: 1.2053 - val_accuracy: 0.6498\n",
      "Epoch 14/20\n",
      "33/33 [==============================] - 33s 1s/step - loss: 0.5344 - accuracy: 0.7956 - val_loss: 1.0341 - val_accuracy: 0.6265\n",
      "Epoch 15/20\n",
      "33/33 [==============================] - 33s 1s/step - loss: 0.4941 - accuracy: 0.8013 - val_loss: 1.0587 - val_accuracy: 0.6420\n",
      "Epoch 16/20\n",
      "33/33 [==============================] - 33s 1s/step - loss: 0.4191 - accuracy: 0.8426 - val_loss: 1.0644 - val_accuracy: 0.6615\n",
      "Epoch 17/20\n",
      "33/33 [==============================] - 33s 998ms/step - loss: 0.4023 - accuracy: 0.8541 - val_loss: 1.1504 - val_accuracy: 0.6887\n",
      "Epoch 18/20\n",
      "33/33 [==============================] - 33s 1s/step - loss: 0.4004 - accuracy: 0.8589 - val_loss: 0.9540 - val_accuracy: 0.7004\n",
      "Epoch 19/20\n",
      "33/33 [==============================] - 33s 1s/step - loss: 0.3468 - accuracy: 0.8733 - val_loss: 1.1108 - val_accuracy: 0.6926\n",
      "Epoch 20/20\n",
      "33/33 [==============================] - 33s 1s/step - loss: 0.3408 - accuracy: 0.8685 - val_loss: 1.0519 - val_accuracy: 0.6809\n"
     ]
    }
   ],
   "source": [
    "history = model.fit(dataset_train,\n",
    "          validation_data=dataset_validation,\n",
    "          epochs=20)"
   ]
  },
  {
   "cell_type": "code",
   "execution_count": 52,
   "metadata": {},
   "outputs": [],
   "source": [
    "model.save(\"5Animals_model.h5\")"
   ]
  },
  {
   "cell_type": "code",
   "execution_count": 53,
   "metadata": {},
   "outputs": [],
   "source": [
    "model = tf.keras.models.load_model(\"5Animals_model.h5\")"
   ]
  },
  {
   "cell_type": "code",
   "execution_count": 54,
   "metadata": {},
   "outputs": [
    {
     "name": "stdout",
     "output_type": "stream",
     "text": [
      "9/9 [==============================] - 4s 433ms/step - loss: 1.0234 - accuracy: 0.6848\n"
     ]
    },
    {
     "data": {
      "text/plain": [
       "[1.023382544517517, 0.6848248839378357]"
      ]
     },
     "execution_count": 54,
     "metadata": {},
     "output_type": "execute_result"
    }
   ],
   "source": [
    "model.evaluate(dataset_validation)"
   ]
  },
  {
   "cell_type": "code",
   "execution_count": 77,
   "metadata": {},
   "outputs": [
    {
     "name": "stdout",
     "output_type": "stream",
     "text": [
      "1/1 [==============================] - 0s 25ms/step\n",
      " Elephant 🐘\n"
     ]
    }
   ],
   "source": [
    "image = cv2.imread(\"test.jpg\")\n",
    "image = cv2.cvtColor(image, cv2.COLOR_BGR2RGB)\n",
    "image = cv2.resize(image, (224, 224))\n",
    "image = image / 255\n",
    "image = image.reshape(1, 224, 224, 3)\n",
    "\n",
    "output = model.predict(image)\n",
    "\n",
    "pred = np.argmax(output)\n",
    "if pred == 0:\n",
    "    print(\" Elephant 🐘\")\n",
    "elif pred == 1:\n",
    "    print(\"dog 🐶\")\n",
    "elif pred == 2:\n",
    "    print(\"cat 🐈 \")\n",
    "elif pred == 3:\n",
    "    print(\"Giraffe 🦒\")\n",
    "elif pred == 4:\n",
    "    print(\"Pandas 🐼\")"
   ]
  }
 ],
 "metadata": {
  "kernelspec": {
   "display_name": "Python 3",
   "language": "python",
   "name": "python3"
  },
  "language_info": {
   "codemirror_mode": {
    "name": "ipython",
    "version": 3
   },
   "file_extension": ".py",
   "mimetype": "text/x-python",
   "name": "python",
   "nbconvert_exporter": "python",
   "pygments_lexer": "ipython3",
   "version": "3.11.7"
  }
 },
 "nbformat": 4,
 "nbformat_minor": 2
}
