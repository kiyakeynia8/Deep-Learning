{
 "cells": [
  {
   "cell_type": "code",
   "execution_count": 1,
   "metadata": {},
   "outputs": [
    {
     "name": "stdout",
     "output_type": "stream",
     "text": [
      "WARNING:tensorflow:From c:\\Users\\kiyak\\AppData\\Local\\Programs\\Python\\Python311\\Lib\\site-packages\\keras\\src\\losses.py:2976: The name tf.losses.sparse_softmax_cross_entropy is deprecated. Please use tf.compat.v1.losses.sparse_softmax_cross_entropy instead.\n",
      "\n"
     ]
    }
   ],
   "source": [
    "from deepface import DeepFace\n",
    "import pandas as pd\n",
    "import numpy as np\n",
    "import tensorflow as tf\n",
    "from sklearn.model_selection import train_test_split\n",
    "from generate_dataset import generate_dataset"
   ]
  },
  {
   "cell_type": "code",
   "execution_count": 2,
   "metadata": {},
   "outputs": [],
   "source": [
    "generate_dataset()"
   ]
  },
  {
   "cell_type": "code",
   "execution_count": 3,
   "metadata": {},
   "outputs": [
    {
     "data": {
      "text/html": [
       "<div>\n",
       "<style scoped>\n",
       "    .dataframe tbody tr th:only-of-type {\n",
       "        vertical-align: middle;\n",
       "    }\n",
       "\n",
       "    .dataframe tbody tr th {\n",
       "        vertical-align: top;\n",
       "    }\n",
       "\n",
       "    .dataframe thead th {\n",
       "        text-align: right;\n",
       "    }\n",
       "</style>\n",
       "<table border=\"1\" class=\"dataframe\">\n",
       "  <thead>\n",
       "    <tr style=\"text-align: right;\">\n",
       "      <th></th>\n",
       "      <th>Unnamed: 0</th>\n",
       "      <th>0</th>\n",
       "      <th>1</th>\n",
       "      <th>2</th>\n",
       "      <th>3</th>\n",
       "      <th>4</th>\n",
       "      <th>5</th>\n",
       "      <th>6</th>\n",
       "      <th>7</th>\n",
       "      <th>8</th>\n",
       "      <th>...</th>\n",
       "      <th>504</th>\n",
       "      <th>505</th>\n",
       "      <th>506</th>\n",
       "      <th>507</th>\n",
       "      <th>508</th>\n",
       "      <th>509</th>\n",
       "      <th>510</th>\n",
       "      <th>511</th>\n",
       "      <th>Celeb_Label</th>\n",
       "      <th>Celeb_name</th>\n",
       "    </tr>\n",
       "  </thead>\n",
       "  <tbody>\n",
       "    <tr>\n",
       "      <th>0</th>\n",
       "      <td>0</td>\n",
       "      <td>-0.130630</td>\n",
       "      <td>0.050372</td>\n",
       "      <td>-0.033286</td>\n",
       "      <td>-0.352186</td>\n",
       "      <td>-0.064046</td>\n",
       "      <td>-0.108651</td>\n",
       "      <td>0.265626</td>\n",
       "      <td>0.004132</td>\n",
       "      <td>-0.018946</td>\n",
       "      <td>...</td>\n",
       "      <td>0.199065</td>\n",
       "      <td>-0.006498</td>\n",
       "      <td>0.083920</td>\n",
       "      <td>-0.105203</td>\n",
       "      <td>0.326752</td>\n",
       "      <td>0.145737</td>\n",
       "      <td>0.191030</td>\n",
       "      <td>0.057138</td>\n",
       "      <td>0</td>\n",
       "      <td>Adel_FerdowsiPour</td>\n",
       "    </tr>\n",
       "    <tr>\n",
       "      <th>1</th>\n",
       "      <td>1</td>\n",
       "      <td>-0.196588</td>\n",
       "      <td>0.239753</td>\n",
       "      <td>-0.012986</td>\n",
       "      <td>-0.313293</td>\n",
       "      <td>0.137059</td>\n",
       "      <td>-0.082240</td>\n",
       "      <td>0.229596</td>\n",
       "      <td>0.122506</td>\n",
       "      <td>-0.041383</td>\n",
       "      <td>...</td>\n",
       "      <td>0.141603</td>\n",
       "      <td>0.118120</td>\n",
       "      <td>0.337488</td>\n",
       "      <td>-0.100415</td>\n",
       "      <td>0.078088</td>\n",
       "      <td>0.118227</td>\n",
       "      <td>-0.097745</td>\n",
       "      <td>0.021733</td>\n",
       "      <td>0</td>\n",
       "      <td>Adel_FerdowsiPour</td>\n",
       "    </tr>\n",
       "    <tr>\n",
       "      <th>2</th>\n",
       "      <td>2</td>\n",
       "      <td>0.007586</td>\n",
       "      <td>-0.045209</td>\n",
       "      <td>0.279231</td>\n",
       "      <td>-0.122467</td>\n",
       "      <td>-0.047737</td>\n",
       "      <td>-0.093136</td>\n",
       "      <td>0.020060</td>\n",
       "      <td>-0.013580</td>\n",
       "      <td>0.078798</td>\n",
       "      <td>...</td>\n",
       "      <td>0.066340</td>\n",
       "      <td>-0.069833</td>\n",
       "      <td>0.220127</td>\n",
       "      <td>-0.079769</td>\n",
       "      <td>0.369212</td>\n",
       "      <td>0.031541</td>\n",
       "      <td>0.209013</td>\n",
       "      <td>0.324446</td>\n",
       "      <td>0</td>\n",
       "      <td>Adel_FerdowsiPour</td>\n",
       "    </tr>\n",
       "    <tr>\n",
       "      <th>3</th>\n",
       "      <td>3</td>\n",
       "      <td>-0.018304</td>\n",
       "      <td>-0.047322</td>\n",
       "      <td>0.070936</td>\n",
       "      <td>-0.226148</td>\n",
       "      <td>0.082088</td>\n",
       "      <td>-0.079673</td>\n",
       "      <td>0.006830</td>\n",
       "      <td>-0.121529</td>\n",
       "      <td>-0.061033</td>\n",
       "      <td>...</td>\n",
       "      <td>0.038184</td>\n",
       "      <td>0.021753</td>\n",
       "      <td>-0.011950</td>\n",
       "      <td>0.096359</td>\n",
       "      <td>0.031626</td>\n",
       "      <td>0.038657</td>\n",
       "      <td>-0.035625</td>\n",
       "      <td>-0.018383</td>\n",
       "      <td>0</td>\n",
       "      <td>Adel_FerdowsiPour</td>\n",
       "    </tr>\n",
       "    <tr>\n",
       "      <th>4</th>\n",
       "      <td>4</td>\n",
       "      <td>-0.134411</td>\n",
       "      <td>0.177214</td>\n",
       "      <td>0.148634</td>\n",
       "      <td>-0.626351</td>\n",
       "      <td>0.068255</td>\n",
       "      <td>-0.306762</td>\n",
       "      <td>0.124626</td>\n",
       "      <td>0.134459</td>\n",
       "      <td>-0.244582</td>\n",
       "      <td>...</td>\n",
       "      <td>0.183643</td>\n",
       "      <td>-0.025073</td>\n",
       "      <td>-0.005875</td>\n",
       "      <td>0.015631</td>\n",
       "      <td>0.247400</td>\n",
       "      <td>0.106732</td>\n",
       "      <td>-0.200120</td>\n",
       "      <td>0.002185</td>\n",
       "      <td>0</td>\n",
       "      <td>Adel_FerdowsiPour</td>\n",
       "    </tr>\n",
       "  </tbody>\n",
       "</table>\n",
       "<p>5 rows × 515 columns</p>\n",
       "</div>"
      ],
      "text/plain": [
       "   Unnamed: 0         0         1         2         3         4         5  \\\n",
       "0           0 -0.130630  0.050372 -0.033286 -0.352186 -0.064046 -0.108651   \n",
       "1           1 -0.196588  0.239753 -0.012986 -0.313293  0.137059 -0.082240   \n",
       "2           2  0.007586 -0.045209  0.279231 -0.122467 -0.047737 -0.093136   \n",
       "3           3 -0.018304 -0.047322  0.070936 -0.226148  0.082088 -0.079673   \n",
       "4           4 -0.134411  0.177214  0.148634 -0.626351  0.068255 -0.306762   \n",
       "\n",
       "          6         7         8  ...       504       505       506       507  \\\n",
       "0  0.265626  0.004132 -0.018946  ...  0.199065 -0.006498  0.083920 -0.105203   \n",
       "1  0.229596  0.122506 -0.041383  ...  0.141603  0.118120  0.337488 -0.100415   \n",
       "2  0.020060 -0.013580  0.078798  ...  0.066340 -0.069833  0.220127 -0.079769   \n",
       "3  0.006830 -0.121529 -0.061033  ...  0.038184  0.021753 -0.011950  0.096359   \n",
       "4  0.124626  0.134459 -0.244582  ...  0.183643 -0.025073 -0.005875  0.015631   \n",
       "\n",
       "        508       509       510       511  Celeb_Label         Celeb_name  \n",
       "0  0.326752  0.145737  0.191030  0.057138            0  Adel_FerdowsiPour  \n",
       "1  0.078088  0.118227 -0.097745  0.021733            0  Adel_FerdowsiPour  \n",
       "2  0.369212  0.031541  0.209013  0.324446            0  Adel_FerdowsiPour  \n",
       "3  0.031626  0.038657 -0.035625 -0.018383            0  Adel_FerdowsiPour  \n",
       "4  0.247400  0.106732 -0.200120  0.002185            0  Adel_FerdowsiPour  \n",
       "\n",
       "[5 rows x 515 columns]"
      ]
     },
     "execution_count": 3,
     "metadata": {},
     "output_type": "execute_result"
    }
   ],
   "source": [
    "df = pd.read_csv(\"dataset.csv\")\n",
    "df.head()"
   ]
  },
  {
   "cell_type": "code",
   "execution_count": 4,
   "metadata": {},
   "outputs": [
    {
     "data": {
      "text/html": [
       "<div>\n",
       "<style scoped>\n",
       "    .dataframe tbody tr th:only-of-type {\n",
       "        vertical-align: middle;\n",
       "    }\n",
       "\n",
       "    .dataframe tbody tr th {\n",
       "        vertical-align: top;\n",
       "    }\n",
       "\n",
       "    .dataframe thead th {\n",
       "        text-align: right;\n",
       "    }\n",
       "</style>\n",
       "<table border=\"1\" class=\"dataframe\">\n",
       "  <thead>\n",
       "    <tr style=\"text-align: right;\">\n",
       "      <th></th>\n",
       "      <th>Celeb_name</th>\n",
       "    </tr>\n",
       "  </thead>\n",
       "  <tbody>\n",
       "    <tr>\n",
       "      <th>0</th>\n",
       "      <td>Adel_FerdowsiPour</td>\n",
       "    </tr>\n",
       "    <tr>\n",
       "      <th>1</th>\n",
       "      <td>Ali_Daei</td>\n",
       "    </tr>\n",
       "    <tr>\n",
       "      <th>2</th>\n",
       "      <td>Ali_Khamenei</td>\n",
       "    </tr>\n",
       "  </tbody>\n",
       "</table>\n",
       "</div>"
      ],
      "text/plain": [
       "          Celeb_name\n",
       "0  Adel_FerdowsiPour\n",
       "1           Ali_Daei\n",
       "2       Ali_Khamenei"
      ]
     },
     "execution_count": 4,
     "metadata": {},
     "output_type": "execute_result"
    }
   ],
   "source": [
    "celebs = df[[\"Celeb_name\"]].drop_duplicates().reset_index(drop=True)\n",
    "celebs"
   ]
  },
  {
   "cell_type": "code",
   "execution_count": 5,
   "metadata": {},
   "outputs": [
    {
     "data": {
      "text/plain": [
       "((120, 512), (30, 512), (120, 30), (30, 30))"
      ]
     },
     "execution_count": 5,
     "metadata": {},
     "output_type": "execute_result"
    }
   ],
   "source": [
    "X = df.drop([\"Unnamed: 0\", \"Celeb_Label\", \"Celeb_name\"],axis=1).values\n",
    "Y = df[\"Celeb_Label\"]\n",
    "Y = np.eye(30)[Y]\n",
    "\n",
    "X_train, X_test, Y_train, Y_test = train_test_split(X, Y, test_size=.2)\n",
    "X_train.shape, X_test.shape, Y_train.shape, Y_test.shape"
   ]
  },
  {
   "cell_type": "code",
   "execution_count": 9,
   "metadata": {},
   "outputs": [],
   "source": [
    "model = tf.keras.models.Sequential([\n",
    "    tf.keras.layers.Dense(512, activation=\"sigmoid\"),\n",
    "    tf.keras.layers.Dense(750, activation=\"relu\"),\n",
    "    tf.keras.layers.Dense(400, activation=\"relu\"),\n",
    "    tf.keras.layers.Dense(30, activation=\"softmax\")\n",
    "    ])"
   ]
  },
  {
   "cell_type": "code",
   "execution_count": 10,
   "metadata": {},
   "outputs": [],
   "source": [
    "model.compile(optimizer = tf.keras.optimizers.Adam(learning_rate = 0.001),\n",
    "              loss = tf.keras.losses.binary_crossentropy,\n",
    "              metrics = [\"accuracy\"])"
   ]
  },
  {
   "cell_type": "code",
   "execution_count": 11,
   "metadata": {},
   "outputs": [
    {
     "name": "stdout",
     "output_type": "stream",
     "text": [
      "Epoch 1/50\n",
      "4/4 [==============================] - 1s 12ms/step - loss: 0.4275 - accuracy: 0.0583\n",
      "Epoch 2/50\n",
      "4/4 [==============================] - 0s 12ms/step - loss: 0.0816 - accuracy: 0.4083\n",
      "Epoch 3/50\n",
      "4/4 [==============================] - 0s 12ms/step - loss: 0.0634 - accuracy: 0.4667\n",
      "Epoch 4/50\n",
      "4/4 [==============================] - 0s 10ms/step - loss: 0.0577 - accuracy: 0.5667\n",
      "Epoch 5/50\n",
      "4/4 [==============================] - 0s 11ms/step - loss: 0.0530 - accuracy: 0.6000\n",
      "Epoch 6/50\n",
      "4/4 [==============================] - 0s 11ms/step - loss: 0.0439 - accuracy: 0.7333\n",
      "Epoch 7/50\n",
      "4/4 [==============================] - 0s 10ms/step - loss: 0.0369 - accuracy: 0.8167\n",
      "Epoch 8/50\n",
      "4/4 [==============================] - 0s 10ms/step - loss: 0.0320 - accuracy: 0.9333\n",
      "Epoch 9/50\n",
      "4/4 [==============================] - 0s 14ms/step - loss: 0.0239 - accuracy: 0.9917\n",
      "Epoch 10/50\n",
      "4/4 [==============================] - 0s 10ms/step - loss: 0.0172 - accuracy: 0.9917\n",
      "Epoch 11/50\n",
      "4/4 [==============================] - 0s 12ms/step - loss: 0.0124 - accuracy: 0.9917\n",
      "Epoch 12/50\n",
      "4/4 [==============================] - 0s 10ms/step - loss: 0.0089 - accuracy: 0.9917\n",
      "Epoch 13/50\n",
      "4/4 [==============================] - 0s 10ms/step - loss: 0.0069 - accuracy: 0.9917\n",
      "Epoch 14/50\n",
      "4/4 [==============================] - 0s 10ms/step - loss: 0.0053 - accuracy: 0.9917\n",
      "Epoch 15/50\n",
      "4/4 [==============================] - 0s 10ms/step - loss: 0.0046 - accuracy: 0.9917\n",
      "Epoch 16/50\n",
      "4/4 [==============================] - 0s 13ms/step - loss: 0.0040 - accuracy: 0.9917\n",
      "Epoch 17/50\n",
      "4/4 [==============================] - 0s 11ms/step - loss: 0.0035 - accuracy: 0.9917\n",
      "Epoch 18/50\n",
      "4/4 [==============================] - 0s 8ms/step - loss: 0.0032 - accuracy: 0.9917\n",
      "Epoch 19/50\n",
      "4/4 [==============================] - 0s 10ms/step - loss: 0.0028 - accuracy: 0.9917\n",
      "Epoch 20/50\n",
      "4/4 [==============================] - 0s 10ms/step - loss: 0.0029 - accuracy: 0.9917\n",
      "Epoch 21/50\n",
      "4/4 [==============================] - 0s 10ms/step - loss: 0.0026 - accuracy: 0.9917\n",
      "Epoch 22/50\n",
      "4/4 [==============================] - 0s 9ms/step - loss: 0.0026 - accuracy: 0.9917\n",
      "Epoch 23/50\n",
      "4/4 [==============================] - 0s 9ms/step - loss: 0.0023 - accuracy: 0.9917\n",
      "Epoch 24/50\n",
      "4/4 [==============================] - 0s 9ms/step - loss: 0.0022 - accuracy: 0.9917\n",
      "Epoch 25/50\n",
      "4/4 [==============================] - 0s 10ms/step - loss: 0.0027 - accuracy: 0.9917\n",
      "Epoch 26/50\n",
      "4/4 [==============================] - 0s 9ms/step - loss: 0.0028 - accuracy: 0.9917\n",
      "Epoch 27/50\n",
      "4/4 [==============================] - 0s 9ms/step - loss: 0.0018 - accuracy: 0.9917\n",
      "Epoch 28/50\n",
      "4/4 [==============================] - 0s 10ms/step - loss: 0.0023 - accuracy: 1.0000\n",
      "Epoch 29/50\n",
      "4/4 [==============================] - 0s 10ms/step - loss: 0.0025 - accuracy: 0.9917\n",
      "Epoch 30/50\n",
      "4/4 [==============================] - 0s 10ms/step - loss: 0.0023 - accuracy: 0.9917\n",
      "Epoch 31/50\n",
      "4/4 [==============================] - 0s 10ms/step - loss: 0.0033 - accuracy: 0.9833\n",
      "Epoch 32/50\n",
      "4/4 [==============================] - 0s 10ms/step - loss: 9.4215e-04 - accuracy: 0.9917\n",
      "Epoch 33/50\n",
      "4/4 [==============================] - 0s 12ms/step - loss: 0.0039 - accuracy: 0.9917\n",
      "Epoch 34/50\n",
      "4/4 [==============================] - 0s 8ms/step - loss: 0.0025 - accuracy: 0.9917\n",
      "Epoch 35/50\n",
      "4/4 [==============================] - 0s 8ms/step - loss: 0.0019 - accuracy: 0.9917\n",
      "Epoch 36/50\n",
      "4/4 [==============================] - 0s 9ms/step - loss: 0.0020 - accuracy: 0.9917\n",
      "Epoch 37/50\n",
      "4/4 [==============================] - 0s 11ms/step - loss: 0.0015 - accuracy: 0.9917\n",
      "Epoch 38/50\n",
      "4/4 [==============================] - 0s 11ms/step - loss: 0.0011 - accuracy: 0.9917\n",
      "Epoch 39/50\n",
      "4/4 [==============================] - 0s 9ms/step - loss: 0.0012 - accuracy: 0.9917\n",
      "Epoch 40/50\n",
      "4/4 [==============================] - 0s 10ms/step - loss: 0.0011 - accuracy: 0.9917\n",
      "Epoch 41/50\n",
      "4/4 [==============================] - 0s 9ms/step - loss: 0.0011 - accuracy: 0.9917\n",
      "Epoch 42/50\n",
      "4/4 [==============================] - 0s 13ms/step - loss: 0.0012 - accuracy: 0.9917\n",
      "Epoch 43/50\n",
      "4/4 [==============================] - 0s 8ms/step - loss: 0.0011 - accuracy: 0.9917\n",
      "Epoch 44/50\n",
      "4/4 [==============================] - 0s 10ms/step - loss: 0.0011 - accuracy: 0.9917\n",
      "Epoch 45/50\n",
      "4/4 [==============================] - 0s 10ms/step - loss: 8.6172e-04 - accuracy: 0.9917\n",
      "Epoch 46/50\n",
      "4/4 [==============================] - 0s 9ms/step - loss: 9.1068e-04 - accuracy: 1.0000\n",
      "Epoch 47/50\n",
      "4/4 [==============================] - 0s 10ms/step - loss: 6.2109e-04 - accuracy: 1.0000\n",
      "Epoch 48/50\n",
      "4/4 [==============================] - 0s 9ms/step - loss: 0.0010 - accuracy: 0.9917\n",
      "Epoch 49/50\n",
      "4/4 [==============================] - 0s 10ms/step - loss: 0.0010 - accuracy: 0.9917\n",
      "Epoch 50/50\n",
      "4/4 [==============================] - 0s 10ms/step - loss: 0.0011 - accuracy: 0.9917\n"
     ]
    },
    {
     "data": {
      "text/plain": [
       "<keras.src.callbacks.History at 0x21e991a9ad0>"
      ]
     },
     "execution_count": 11,
     "metadata": {},
     "output_type": "execute_result"
    }
   ],
   "source": [
    "model.fit(X_train, Y_train, epochs=50)"
   ]
  },
  {
   "cell_type": "code",
   "execution_count": null,
   "metadata": {},
   "outputs": [],
   "source": [
    "model.save(\"model.h5\")"
   ]
  },
  {
   "cell_type": "code",
   "execution_count": 7,
   "metadata": {},
   "outputs": [],
   "source": [
    "model = tf.keras.models.load_model(\"model.h5\")"
   ]
  },
  {
   "cell_type": "code",
   "execution_count": 8,
   "metadata": {},
   "outputs": [
    {
     "name": "stdout",
     "output_type": "stream",
     "text": [
      "1/1 [==============================] - 0s 248ms/step - loss: 1.4044e-04 - accuracy: 1.0000\n"
     ]
    },
    {
     "data": {
      "text/plain": [
       "[0.00014044200361240655, 1.0]"
      ]
     },
     "execution_count": 8,
     "metadata": {},
     "output_type": "execute_result"
    }
   ],
   "source": [
    "model.evaluate(X_test, Y_test)"
   ]
  },
  {
   "cell_type": "code",
   "execution_count": 10,
   "metadata": {},
   "outputs": [
    {
     "name": "stdout",
     "output_type": "stream",
     "text": [
      "1/1 [==============================] - 0s 19ms/step\n"
     ]
    },
    {
     "data": {
      "text/plain": [
       "'Ali_Daei'"
      ]
     },
     "execution_count": 10,
     "metadata": {},
     "output_type": "execute_result"
    }
   ],
   "source": [
    "embedding_objs = DeepFace.represent(img_path = \"images/Ali_Daei/279746_827-0.jpg\", model_name=\"ArcFace\")\n",
    "predict = model.predict(np.array([embedding_objs[0][\"embedding\"]]))\n",
    "celebs[\"Celeb_name\"][np.argmax(predict)]"
   ]
  }
 ],
 "metadata": {
  "kernelspec": {
   "display_name": "Python 3",
   "language": "python",
   "name": "python3"
  },
  "language_info": {
   "codemirror_mode": {
    "name": "ipython",
    "version": 3
   },
   "file_extension": ".py",
   "mimetype": "text/x-python",
   "name": "python",
   "nbconvert_exporter": "python",
   "pygments_lexer": "ipython3",
   "version": "3.11.7"
  }
 },
 "nbformat": 4,
 "nbformat_minor": 2
}
